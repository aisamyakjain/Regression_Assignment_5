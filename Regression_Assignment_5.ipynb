{
 "cells": [
  {
   "cell_type": "markdown",
   "id": "12e39835-c92f-49a8-8039-98c7a4426422",
   "metadata": {},
   "source": [
    "## ElasticNet Assignment"
   ]
  },
  {
   "cell_type": "markdown",
   "id": "aeb87fc5-5d99-4f1b-9870-3b15f97fa34f",
   "metadata": {},
   "source": [
    "Q1. What is Elastic Net Regression and how does it differ from other regression techniques?\n",
    "\n",
    "Answer:  Elastic Net Regression combines L1 (Lasso) and L2 (Ridge) regularization terms, allowing for both feature selection and handling multicollinearity. It balances the advantages of both methods."
   ]
  },
  {
   "cell_type": "markdown",
   "id": "2e3cf60e-2b0b-4191-bc2b-b90acc656797",
   "metadata": {},
   "source": [
    "Q2. How do you choose the optimal values of the regularization parameters for Elastic Net Regression?\n",
    "\n",
    "Answer: The optimal values of the regularization parameters (alpha and lambda) in Elastic Net Regression can be chosen using techniques like cross-validation or grid search to minimize error or maximize performance metrics."
   ]
  },
  {
   "cell_type": "markdown",
   "id": "c3b4cc59-c89a-46f6-b196-1a10ad4a3db4",
   "metadata": {},
   "source": [
    "Q3. What are the advantages and disadvantages of Elastic Net Regression?\n",
    "\n",
    "Answer: Advantages: Elastic Net Regression handles multicollinearity, performs feature selection, and provides a balance between Lasso and Ridge regression.\n",
    "Disadvantages: It introduces additional hyperparameters and can be computationally expensive compared to individual Lasso or Ridge regression."
   ]
  },
  {
   "cell_type": "markdown",
   "id": "b54e973e-7232-4e60-8200-c7094202050c",
   "metadata": {},
   "source": [
    "Q4. What are some common use cases for Elastic Net Regression?\n",
    "\n",
    "Answer: Common use cases for Elastic Net Regression include situations with high-dimensional datasets, multicollinearity, and when feature selection and regularization are desired simultaneously."
   ]
  },
  {
   "cell_type": "markdown",
   "id": "c14b727c-e0b2-44d8-a835-f810c1330569",
   "metadata": {},
   "source": [
    "Q5. How do you interpret the coefficients in Elastic Net Regression\n",
    "\n",
    "Answer: The coefficients in Elastic Net Regression indicate the strength and direction of the relationship between each feature and the target variable, considering both L1 (Lasso) and L2 (Ridge) regularization effects."
   ]
  },
  {
   "cell_type": "markdown",
   "id": "d7040b40-8c47-4362-82a1-d0890b482a9f",
   "metadata": {},
   "source": [
    "Q6. How do you handle missing values when using Elastic Net Regression\n",
    "\n",
    "Answer: Missing values in Elastic Net Regression can be handled by imputation techniques such as mean, median, or model-based imputation before fitting the regression model."
   ]
  },
  {
   "cell_type": "markdown",
   "id": "3c5e968d-f06f-4922-bf42-035dca26e79a",
   "metadata": {},
   "source": [
    "Q7. How do you use Elastic Net Regression for feature selection\n",
    "\n",
    "Answer: Elastic Net Regression automatically performs feature selection by shrinking some coefficients to zero, effectively eliminating less relevant features and selecting the most important ones."
   ]
  },
  {
   "cell_type": "markdown",
   "id": "6a610d36-2cc1-442a-8c17-275325223f7d",
   "metadata": {},
   "source": [
    "Q8. How do you pickle and unpickle a trained Elastic Net Regression model in Python\n",
    "\n",
    "Answer: To pickle a trained Elastic Net Regression model in Python, use the `pickle` module to save it as a file. To unpickle, load the file using `pickle.load()` and access the model for further use."
   ]
  },
  {
   "cell_type": "markdown",
   "id": "7a98ddfe-b550-46b0-85b6-e10b16396be1",
   "metadata": {},
   "source": [
    "Q9. What is the purpose of pickling a model in machine learning?\n",
    "\n",
    "Answer: The purpose of pickling a model in machine learning is to save the trained model to a file, allowing it to be stored, transported, and reused later without retraining."
   ]
  },
  {
   "cell_type": "code",
   "execution_count": null,
   "id": "578f3200-928b-4325-bde4-531cb73c6c78",
   "metadata": {},
   "outputs": [],
   "source": []
  }
 ],
 "metadata": {
  "kernelspec": {
   "display_name": "Python 3 (ipykernel)",
   "language": "python",
   "name": "python3"
  },
  "language_info": {
   "codemirror_mode": {
    "name": "ipython",
    "version": 3
   },
   "file_extension": ".py",
   "mimetype": "text/x-python",
   "name": "python",
   "nbconvert_exporter": "python",
   "pygments_lexer": "ipython3",
   "version": "3.10.8"
  }
 },
 "nbformat": 4,
 "nbformat_minor": 5
}
